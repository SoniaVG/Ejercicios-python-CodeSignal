{
  "nbformat": 4,
  "nbformat_minor": 0,
  "metadata": {
    "colab": {
      "provenance": [],
      "authorship_tag": "ABX9TyNha4wG6cajvajK82tuBM5s",
      "include_colab_link": true
    },
    "kernelspec": {
      "name": "python3",
      "display_name": "Python 3"
    },
    "language_info": {
      "name": "python"
    }
  },
  "cells": [
    {
      "cell_type": "markdown",
      "metadata": {
        "id": "view-in-github",
        "colab_type": "text"
      },
      "source": [
        "<a href=\"https://colab.research.google.com/github/SoniaVG/Ejercicios-python-CodeSignal/blob/main/CodeSignal_1_10.ipynb\" target=\"_parent\"><img src=\"https://colab.research.google.com/assets/colab-badge.svg\" alt=\"Open In Colab\"/></a>"
      ]
    },
    {
      "cell_type": "markdown",
      "source": [
        "**1)**  **Write a function that returns the sum of two numbers.**\n",
        "\n",
        "**Example:**\n",
        "\n",
        "**For param1 = 1 and param2 = 2,  the output should be solution(param1, param2) = 3.**"
      ],
      "metadata": {
        "id": "VSzgqV7YFu88"
      }
    },
    {
      "cell_type": "code",
      "execution_count": null,
      "metadata": {
        "id": "LwJ-h7Q3Ew2m"
      },
      "outputs": [],
      "source": [
        "def solution(param1, param2):\n",
        "  return param1+param2\n"
      ]
    },
    {
      "cell_type": "markdown",
      "source": [
        "**Given a year, return the century it is in. The first century spans from the year 1 up to and including the year 100, the second - from the year 101 up to and including the year 200, etc.**\n",
        "\n",
        "**Example**\n",
        "\n",
        "**For year = 1905, the output should be  solution(year) = 20;**\n",
        "\n",
        "**For year = 1700, the output should be  solution(year) = 17.**"
      ],
      "metadata": {
        "id": "_LqQKGYxF3xp"
      }
    },
    {
      "cell_type": "code",
      "source": [
        "import math\n",
        "def solution(year):\n",
        "  return math.ceil(year/100)\n"
      ],
      "metadata": {
        "id": "ut5IVF49F78c"
      },
      "execution_count": null,
      "outputs": []
    },
    {
      "cell_type": "markdown",
      "source": [
        "**Given the string, check if it is a palindrome.**\n",
        "\n",
        "**Example**\n",
        "\n",
        "**For inputString = \"aabaa\", the output should be solution(inputString) = true;**\n",
        "\n",
        "**For inputString = \"abac\", the output should be solution(inputString) = false;**\n",
        "\n",
        "**For inputString = \"a\", the output should be solution(inputString) = true.**\n"
      ],
      "metadata": {
        "id": "bPneCYbHGNyi"
      }
    },
    {
      "cell_type": "code",
      "source": [
        "def solution(inputString):\n",
        "  ind2=len(inputString)-1\n",
        "  for ind1, ele in enumerate(inputString):\n",
        "    ban=0\n",
        "    while(ind1<=ind2 and ban==0):\n",
        "      if(inputString[ind1]!=inputString[ind2]):\n",
        "        return False\n",
        "      else:\n",
        "        ind2=ind2-1\n",
        "        ban=1\n",
        "  return True"
      ],
      "metadata": {
        "id": "vTRy7LIHGWoA"
      },
      "execution_count": null,
      "outputs": []
    },
    {
      "cell_type": "markdown",
      "source": [
        "**Given an array of integers, find the pair of adjacent elements that has the largest product and return that product.**\n",
        "\n",
        "**Example**\n",
        "\n",
        "**For inputArray = [3, 6, -2, -5, 7, 3], the output should be solution(inputArray) = 21.**\n",
        "\n",
        "**7 and 3 produce the largest product.**"
      ],
      "metadata": {
        "id": "TIZb9vaxHt0R"
      }
    },
    {
      "cell_type": "code",
      "source": [
        "import numpy as np\n",
        "l=[]\n",
        "def solution(inputArray):\n",
        "  for ind,elemento in enumerate(inputArray):\n",
        "      if(ind<(len(inputArray)-1)):\n",
        "        l.append(elemento*inputArray[ind+1])\n",
        "  return np.max(l)"
      ],
      "metadata": {
        "id": "zcTE7B5EHtH7"
      },
      "execution_count": null,
      "outputs": []
    },
    {
      "cell_type": "markdown",
      "source": [
        "**Below we will define an n-interesting polygon. Your task is to find the area of a polygon for a given n.**\n",
        "\n",
        "**A 1-interesting polygon is just a square with a side of length 1. An n-interesting polygon is obtained by taking the n - 1-interesting polygon and appending 1-interesting polygons to its rim, side by side. You can see the 1-, 2-, 3- and 4-interesting polygons in the picture below.**"
      ],
      "metadata": {
        "id": "itp-BMF9H_4N"
      }
    },
    {
      "cell_type": "code",
      "source": [
        "import numpy as np\n",
        "l=[1]\n",
        "def solution(n):\n",
        "  if n>1:\n",
        "    for i in np.arange(n)+1:\n",
        "      l.append(l[i-1]+4*(i-1))\n",
        "  else:\n",
        "     return 1\n",
        "  return l[-1]"
      ],
      "metadata": {
        "id": "6aHXj4VDIEAY"
      },
      "execution_count": null,
      "outputs": []
    }
  ]
}